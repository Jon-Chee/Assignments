{
 "cells": [
  {
   "cell_type": "markdown",
   "id": "d0391942-f0e9-4a20-82e5-bc98dd56937f",
   "metadata": {},
   "source": [
    "# Exercise 2: Title of the notebook\n",
    "# Data Science Tools and Ecosystem\n",
    "\n",
    "# Exercise 3: Introduction\n",
    "In this notebook, Data Science Tools and Ecosystem are summarized.\n",
    "\n",
    "# Exercise 4: List data science languages\n",
    "Some of the popular languages that Data Scientists use are:\n",
    "1. Python  \n",
    "2. R  \n",
    "3. SQL  \n",
    "4. Julia  \n",
    "5. Scala  \n",
    "\n",
    "# Exercise 5: List data science libraries\n",
    "Some of the commonly used libraries used by Data Scientists include:\n",
    "1. Pandas  \n",
    "2. NumPy  \n",
    "3. Matplotlib  \n",
    "4. Scikit-learn  \n",
    "5. TensorFlow  \n",
    "\n",
    "# Exercise 6: Table of Data Science tools\n",
    "| Data Science Tools          |\n",
    "|----------------------------|\n",
    "| Jupyter Notebook           |\n",
    "| RStudio                   |\n",
    "| Apache Zeppelin           |\n",
    "\n",
    "# Exercise 7: Arithmetic expression introduction\n",
    "### Below are a few examples of evaluating arithmetic expressions in Python.\n",
    "5+3\n",
    "20/5\n",
    "3-1\n",
    "4*2\n",
    "\n",
    "# Exercise 8: Multiply and add numbers\n",
    "# This is a simple arithmetic expression to multiply then add integers\n",
    "result = (3 * 4) + 5\n",
    "\n",
    "print(result)\n",
    "\n",
    "# Exercise 9: Convert minutes to hours\n",
    "# This will convert 200 minutes to hours by dividing by 60\n",
    "200 / 60\n",
    "\n",
    "# Exercise 10: Objectives\n",
    "**Objectives:**\n",
    "- List popular languages for Data Science  \n",
    "- List commonly used libraries for Data Science  \n",
    "- Create tables in markdown  \n",
    "- Perform basic arithmetic operations in Python  \n",
    "- Convert units using Python code  \n",
    "\n",
    "# Exercise 11: Author's name\n",
    "## Author\n",
    "Jonathan"
   ]
  },
  {
   "cell_type": "code",
   "execution_count": null,
   "id": "355bd398-f85b-4918-a394-4c78154c73d0",
   "metadata": {},
   "outputs": [],
   "source": []
  },
  {
   "cell_type": "code",
   "execution_count": null,
   "id": "33b794c3-44dc-41da-8804-5aef96003cda",
   "metadata": {},
   "outputs": [],
   "source": []
  },
  {
   "cell_type": "markdown",
   "id": "eb8eba32-0177-4e84-83a2-3de2a45160e3",
   "metadata": {},
   "source": []
  },
  {
   "cell_type": "markdown",
   "id": "c00b5ab1-6ebf-44b0-ba1e-871b256a6540",
   "metadata": {},
   "source": []
  },
  {
   "cell_type": "code",
   "execution_count": null,
   "id": "76dcb631-d118-4c51-ae17-8d24e66b9c5e",
   "metadata": {},
   "outputs": [],
   "source": []
  },
  {
   "cell_type": "code",
   "execution_count": null,
   "id": "9b90e497-55ac-4bf9-a92a-8f4165e40092",
   "metadata": {},
   "outputs": [],
   "source": []
  },
  {
   "cell_type": "code",
   "execution_count": null,
   "id": "3dc5bd8c-bd45-458a-bf9e-c9d588ca609b",
   "metadata": {},
   "outputs": [],
   "source": []
  },
  {
   "cell_type": "code",
   "execution_count": null,
   "id": "f3cf6905-3727-490a-ac69-765a755a8c77",
   "metadata": {},
   "outputs": [],
   "source": []
  },
  {
   "cell_type": "code",
   "execution_count": null,
   "id": "22336351-1987-4487-990f-d4e4787cbb5a",
   "metadata": {},
   "outputs": [],
   "source": []
  },
  {
   "cell_type": "code",
   "execution_count": null,
   "id": "a85a0a25-dcd2-4b17-8ee5-f4bc065383bb",
   "metadata": {},
   "outputs": [],
   "source": []
  }
 ],
 "metadata": {
  "kernelspec": {
   "display_name": "Python 3 (ipykernel)",
   "language": "python",
   "name": "python3"
  },
  "language_info": {
   "codemirror_mode": {
    "name": "ipython",
    "version": 3
   },
   "file_extension": ".py",
   "mimetype": "text/x-python",
   "name": "python",
   "nbconvert_exporter": "python",
   "pygments_lexer": "ipython3",
   "version": "3.12.7"
  }
 },
 "nbformat": 4,
 "nbformat_minor": 5
}
